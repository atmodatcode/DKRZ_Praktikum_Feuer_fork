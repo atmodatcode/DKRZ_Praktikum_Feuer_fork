{
 "cells": [
  {
   "cell_type": "markdown",
   "metadata": {
    "editable": true,
    "slideshow": {
     "slide_type": ""
    },
    "tags": []
   },
   "source": [
    "Anmerkung: Auf dem DKRZ Jupyterhub wähle oben rechts den Kernel ESMValTool"
   ]
  },
  {
   "cell_type": "markdown",
   "metadata": {},
   "source": [
    "# Wo hat es wann gebrannt?"
   ]
  },
  {
   "cell_type": "markdown",
   "metadata": {},
   "source": [
    "## Gib hier das Jahr an, das Dich interesseriert. \n",
    "Prinzipiell kannst ein Jahr zwischen 2000 und 2023 angeben."
   ]
  },
  {
   "cell_type": "markdown",
   "metadata": {},
   "source": [
    "## Nun laden wir die benötigten Apps."
   ]
  },
  {
   "cell_type": "code",
   "execution_count": null,
   "metadata": {
    "editable": true,
    "slideshow": {
     "slide_type": ""
    },
    "tags": []
   },
   "outputs": [],
   "source": [
    "import pandas as pd\n",
    "import glob\n",
    "import matplotlib.pyplot as plt\n",
    "%matplotlib inline\n",
    "import sys, os\n",
    "#-- auf dem DKRZ Supercomputer gibt es eine App noch nicht, diese muss erst installiert werden\n",
    "try:\n",
    "    host = os.uname()[1].split('.')[-2]\n",
    "except (IndexError, ValueError):\n",
    "    host = 'null'\n",
    "if host == 'dkrz':                   #-- auf dem DKRZ Supercomputer gibt es \n",
    "    # Installiere App nbformat für die Gestaltung der Abbildung\n",
    "    !pip install --user nbformat --quiet\n",
    "    !pip install --user kaleido --quiet\n",
    "    sys.path.append('../../.local/bin') #-- sage dem Computer, wo er die Apps findet"
   ]
  },
  {
   "cell_type": "code",
   "execution_count": null,
   "metadata": {},
   "outputs": [],
   "source": [
    "import plotly.graph_objs as go\n",
    "import plotly.express as px\n",
    "from plotly.offline import download_plotlyjs, init_notebook_mode, plot, iplot\n",
    "import plotly.io as pio\n",
    "init_notebook_mode(connected=True)\n",
    "\n",
    "from IPython.core.interactiveshell import InteractiveShell\n",
    "InteractiveShell.ast_node_interactivity = 'all'"
   ]
  },
  {
   "cell_type": "markdown",
   "metadata": {},
   "source": [
    "## Öffnen der Dateien mit der Feuerbeobachtungen"
   ]
  },
  {
   "cell_type": "markdown",
   "metadata": {},
   "source": [
    "Die MODIS Feuerbeobachtungen kommen vom NASA Datenarchiv https://firms.modaps.eosdis.nasa.gov/country/.  \n",
    "Dort können jährliche, zip-komprimierte Dateien heruntergeladen werden, die Daten für alle Länder enthalten. \n",
    "Der Einfachheit halber wurden die zip-Dateien vorab heruntergeladen, dekomprimiert, und so prozessiert, dass nur zwei csv-Dateien abgespeichert wurden. Letztere enthalten alle MODIS Feuerbeobachtungen für den Zeitraum 2001 bis 2023 für <br>\n",
    "(a) Germany<br>\n",
    "(b) Canada<br>\n",
    "Die Dateinamen lauten<br>\n",
    "modis_2000-2023_${LAND}.csv "
   ]
  },
  {
   "cell_type": "code",
   "execution_count": null,
   "metadata": {},
   "outputs": [],
   "source": [
    "country       = 'Canada'\n",
    "datei      = 'modis_2001-2023_' + country + '.csv'\n",
    "pfad       = '../modis_2001-2023'\n",
    "feuerdaten = pd.read_csv(pfad + '/' + datei, usecols=['latitude','longitude','acq_date','acq_time','frp','type'])"
   ]
  },
  {
   "cell_type": "markdown",
   "metadata": {},
   "source": [
    "## Hier passen wir die Daten etwas an und wählen nur Vegetationsbrände aus.\n",
    "Bei jedem Feuer gibt es eine Typbeschreibung: Handelt es sich wahrscheinlich um ein Vegetationsbrand oder etwas anderes? Wir wählen nur Feuer aus, die vermutlich echte Vegetationsbrände sind."
   ]
  },
  {
   "cell_type": "code",
   "execution_count": null,
   "metadata": {},
   "outputs": [],
   "source": [
    "feuerdaten['Datum']    = pd.to_datetime(feuerdaten['acq_date'])\n",
    "feuerdaten['Uhrzeit']  = pd.to_datetime(feuerdaten['acq_time'], format='%H%M').dt.strftime('%H')\n",
    "feuerdaten.drop(['acq_time','acq_date'], axis='columns', inplace=True)"
   ]
  },
  {
   "cell_type": "code",
   "execution_count": null,
   "metadata": {},
   "outputs": [],
   "source": [
    "feuerdaten['Monat_Jahr'] = feuerdaten['Datum'].dt.to_period('M').dt.strftime('%b-%Y').str.upper()\n",
    "feuerdaten['Jahr'] = feuerdaten['Datum'].dt.strftime('%Y').str.upper()\n"
   ]
  },
  {
   "cell_type": "code",
   "execution_count": null,
   "metadata": {},
   "outputs": [],
   "source": [
    "feuerdaten.rename({'latitude':'Breitengrad', 'longitude':'Längengrad', 'frp':'Feuerintensität', 'type':'Typ'}, axis='columns', inplace=True)\n",
    "feuerdaten['Typ'].replace(to_replace=[0, 2], value=['Vegetationsbrand', 'Anderes'],inplace=True)\n",
    "feuerdaten=feuerdaten[feuerdaten['Typ'] != 'Anderes']"
   ]
  },
  {
   "cell_type": "markdown",
   "metadata": {},
   "source": [
    "### Wie sehen die Daten nun aus (erste 5 Zeilen)?"
   ]
  },
  {
   "cell_type": "code",
   "execution_count": null,
   "metadata": {},
   "outputs": [],
   "source": [
    "feuerdaten.head(5)"
   ]
  },
  {
   "cell_type": "markdown",
   "metadata": {},
   "source": [
    "###  Wie viele Vegetationsbrände gab es in dem Land zwischen 2001 bis 2023?"
   ]
  },
  {
   "cell_type": "code",
   "execution_count": null,
   "metadata": {},
   "outputs": [],
   "source": [
    "print(feuerdaten['Typ'].value_counts().tolist()[0])"
   ]
  },
  {
   "cell_type": "code",
   "execution_count": null,
   "metadata": {},
   "outputs": [],
   "source": [
    "feuerdaten['Feuerintensität'].max()"
   ]
  },
  {
   "cell_type": "markdown",
   "metadata": {},
   "source": [
    "# Nun zeichnen wir eine Deutschlandkarte mit den Feuern. "
   ]
  },
  {
   "cell_type": "markdown",
   "metadata": {},
   "source": [
    "### Hier bestimmen wir die Farben des Farbbalkens."
   ]
  },
  {
   "cell_type": "code",
   "execution_count": null,
   "metadata": {},
   "outputs": [],
   "source": [
    "cmap = [[0, 'black'], [0.5, 'red'],[1, 'yellow']]"
   ]
  },
  {
   "cell_type": "markdown",
   "metadata": {},
   "source": [
    "Hier könntet ihr auch andere Farben auf Englisch wählen. \n",
    "Wichtig ist, dass der englische Farbname klein geschrieben ist.\n",
    "Ihr könntet auch eine Regenbogenfarbskala verwenden. Dann müsst ihr nur schreiben:<br>\n",
    "cmap= 'rainbow'"
   ]
  },
  {
   "cell_type": "markdown",
   "metadata": {},
   "source": [
    "### Hier wird die Abbildung gemacht:"
   ]
  },
  {
   "cell_type": "code",
   "execution_count": null,
   "metadata": {},
   "outputs": [],
   "source": [
    "vmin, vmax = 0, 50\n",
    "if country == 'Germany':\n",
    "    land      = 'Deutschland'\n",
    "    centerlat = 51.17  # Breitengrad von Zentrum Deutschlands\n",
    "    centerlon = 10.45  # Längengrad von Zentrum Deutschlands\n",
    "    vmin, vmax = 0, 50\n",
    "    breite, hoehe = 700, 800\n",
    "    zoom          = 5\n",
    "elif country == 'Canada':\n",
    "    land      = 'Kanada'\n",
    "    centerlat = 56.13    # Breitengrad für das Zentrum Kanadas\n",
    "    centerlon = -106.35  # Längengrad für das Zentrum Kanadas\n",
    "    vmin, vmax = 0, 500\n",
    "    breite, hoehe = 900, 500\n",
    "    zoom          = 2.8"
   ]
  },
  {
   "cell_type": "code",
   "execution_count": null,
   "metadata": {},
   "outputs": [],
   "source": [
    "animationszeitschritt = 'Jahr'   #-- alternativ:  'Monat_Jahr', 'Datum', 'Uhzeit'\n",
    "feuerdaten.sort_values(by=animationszeitschritt, inplace=True)"
   ]
  },
  {
   "cell_type": "code",
   "execution_count": null,
   "metadata": {},
   "outputs": [],
   "source": [
    "fig = px.scatter_mapbox(feuerdaten, \n",
    "                        lat = 'Breitengrad', \n",
    "                        lon = 'Längengrad', \n",
    "                        color = 'Feuerintensität', \n",
    "                        size = 'Feuerintensität',\n",
    "                        color_continuous_scale  = cmap,\n",
    "                        opacity = 0.5,\n",
    "                        range_color = [vmin, vmax],\n",
    "                        hover_data=['Typ'],\n",
    "                        animation_frame= animationszeitschritt,  \n",
    "                        center = {'lat': centerlat, 'lon': centerlon}, \n",
    "                        zoom = zoom,\n",
    "                        mapbox_style = 'carto-positron')\n",
    "fig.update_layout(\n",
    "    title='MODIS Feuerdetektionen in ' + land, title_x=0.5,\n",
    "    width=breite, height=hoehe,\n",
    "    legend={'yanchor': 'top', 'xanchor':'left', 'y':1, 'x': 0.1},\n",
    "    coloraxis={'colorbar':{'title':'Feuerintensität [MW]', 'ticks':'inside'}})\n",
    "fig.layout.updatemenus[0].buttons[0].args[1]['frame']['duration'] = 120\n",
    "\n",
    "output_dir  = '../output'\n",
    "os.makedirs(output_dir, exist_ok=True)\n",
    "output_file = os.path.join(output_dir, f'MODIS_Feuer_{land}_{animationszeitschritt}.html')\n",
    "\n",
    "pio.write_html(fig, file=output_file)"
   ]
  },
  {
   "cell_type": "markdown",
   "metadata": {},
   "source": [
    "## Berechne zeitaggregiertes frp (MW)"
   ]
  },
  {
   "cell_type": "code",
   "execution_count": null,
   "metadata": {},
   "outputs": [],
   "source": [
    "sum_timeries_MW = feuerdaten.groupby('Jahr')[\"Feuerintensität\"].sum() "
   ]
  },
  {
   "cell_type": "markdown",
   "metadata": {},
   "source": [
    "## Schätze verbrannte Biomasse ab"
   ]
  },
  {
   "cell_type": "code",
   "execution_count": null,
   "metadata": {},
   "outputs": [],
   "source": [
    "#conversion_factor_kg_MJ           = 0.356        # Wooster et al. (2025) Conversion factor of mass of combusted dry biomass and released fire radiative energy 0.356 kg MJ-1  experimental study with Miscanthus grass\n",
    "conversion_factor_kg_MJ           = 1.55         # Kaiser et al. (2012)  Conversion factor of mass of combusted dry biomass and released fire radiative energy 0.1.55 kg MJ-1 for EFOS (extratropical forest with organic soil); empirical value by relating GFED dry matter burned estimates with GFAS FRP\n",
    "fire_duration_estimated_sec       = 4 * 60 * 60  # own estimate average fire duration is 4 hours, conservative guess "
   ]
  },
  {
   "cell_type": "markdown",
   "metadata": {},
   "source": []
  },
  {
   "cell_type": "code",
   "execution_count": null,
   "metadata": {},
   "outputs": [],
   "source": [
    "sum_timeries_mio_tons   = sum_timeries_MW * fire_duration_estimated_sec * conversion_factor_kg_MJ * 1.e-9"
   ]
  },
  {
   "cell_type": "code",
   "execution_count": null,
   "metadata": {},
   "outputs": [],
   "source": [
    "sum_timeries_mio_tons"
   ]
  },
  {
   "cell_type": "code",
   "execution_count": null,
   "metadata": {},
   "outputs": [],
   "source": [
    "\n",
    "fontsize_normal = 14\n",
    "fig, ax = plt.subplots(figsize=(12, 4))\n",
    "sum_timeries_mio_tons.plot(kind=\"bar\",  ax=ax, width=0.9, color ='blue').grid(axis='y')\n",
    "ax.tick_params(labelsize=fontsize_normal)              \n",
    "xmin, xmax = ax.get_xlim()\n",
    "# pad bars on both sides a bit and draw the grid behind the bars\n",
    "_ = ax.set(xlim=(xmin-0.25, xmax+0.25), axisbelow=True);\n",
    "_ = plt.ylabel(\"Biomass burned (million tons)\", fontsize=fontsize_normal + 2 , labelpad = 10);\n",
    "_ = plt.xlabel(\"Year\", fontsize=fontsize_normal + 2, labelpad = 10); \n",
    "_ = plt.title(\"Annual MODIS-derived biomass burned in \" + country, fontsize = 22);\n",
    "\n",
    "plt.savefig(f\"MODIS_Annual_biomass_burned_{country}.png\", bbox_inches='tight')"
   ]
  },
  {
   "cell_type": "markdown",
   "metadata": {},
   "source": [
    "### How much CO2 (in million tons) was emitted by the fires in a selected year?"
   ]
  },
  {
   "cell_type": "code",
   "execution_count": null,
   "metadata": {},
   "outputs": [],
   "source": [
    "myyear = \"2023\""
   ]
  },
  {
   "cell_type": "code",
   "execution_count": null,
   "metadata": {},
   "outputs": [],
   "source": [
    "co2_emission_factor =  1572       #-- g CO2 per kg biomass burned, Kaiser et al. 2012\n"
   ]
  },
  {
   "cell_type": "code",
   "execution_count": null,
   "metadata": {},
   "outputs": [],
   "source": [
    "sum_timeries_mio_tons.loc[myyear] * co2_emission_factor * 1.e-3"
   ]
  },
  {
   "cell_type": "markdown",
   "metadata": {},
   "source": [
    "....According to https://www.statista.com/statistics/209619/canadian-co2-emissions/#:~:text=Carbon%20dioxide%20emissions%20in%20Canada%201960%2D2022&text=Canada's%20carbon%20dioxide%20emissions%20from,tons%20(MtCO%E2%82%82)%20in%202022.\n",
    " Canada’s carbon dioxide emissions from fossil fuel combustion and industrial processes totaled 548 million metric tons (MtCO₂) in 2022"
   ]
  },
  {
   "cell_type": "code",
   "execution_count": null,
   "metadata": {},
   "outputs": [],
   "source": []
  }
 ],
 "metadata": {
  "kernelspec": {
   "display_name": "ESMValTool (based on the latest module esmvaltool)",
   "language": "python",
   "name": "esmvaltool"
  },
  "language_info": {
   "codemirror_mode": {
    "name": "ipython",
    "version": 3
   },
   "file_extension": ".py",
   "mimetype": "text/x-python",
   "name": "python",
   "nbconvert_exporter": "python",
   "pygments_lexer": "ipython3",
   "version": "3.10.12"
  }
 },
 "nbformat": 4,
 "nbformat_minor": 4
}
