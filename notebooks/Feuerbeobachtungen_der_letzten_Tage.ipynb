{
 "cells": [
  {
   "cell_type": "markdown",
   "id": "6f08315a-d1c0-485d-9259-eb7251f8b0c9",
   "metadata": {},
   "source": [
    "_starte diese Notebook auf Levante im **1 Python 3 (based on the module python2/2023.01)** Kernel_"
   ]
  },
  {
   "cell_type": "markdown",
   "id": "4a4ae356",
   "metadata": {
    "editable": true,
    "slideshow": {
     "slide_type": ""
    },
    "tags": []
   },
   "source": [
    "# Aktuelle Feuerbeobachtungen weltweit"
   ]
  },
  {
   "cell_type": "markdown",
   "id": "e7d647e6",
   "metadata": {},
   "source": [
    "## Vorbereitung: Lade Apps und die Feuerdaten."
   ]
  },
  {
   "cell_type": "markdown",
   "id": "14a426c7",
   "metadata": {},
   "source": [
    "\n",
    "Wir werden in der Programmiersprache Python arbeiten, um Satellitenbeobachtungen von Feuern zu betrachten. \n",
    "Wir arbeiten dabei in diesem Notebook. Das Notebook besteht aus Zellen, die einzeln angeklickt werden können: \n",
    "*  numerierte Zellen (\\[1\\], \\[2\\], \\[3\\]...) enthalten ausführbaren Python Code, d.h. Befehle, die der Computer ausführen soll. Wenn Du eine numerierte Zelle anklickst, siehst Du oben in der Menüleiste \"Code\" eingeblendet.\n",
    "* nicht-nummerierte Zellen enthalten entweder Kommentare oder die Ausgabe von ausgeführtem Code. In der Menüleiste sehr ihr \"Markdown\" eingeblendet, wenn Du eine nicht-nummerierte Zelle anklickst."
   ]
  },
  {
   "cell_type": "markdown",
   "id": "e2c9d575",
   "metadata": {},
   "source": [
    "### Importiere Python-Apps.\n",
    "Als erstes müssen wir dafür verschiedene \"Python-Apps\" importieren, mit denen wir arbeiten wollen. Das erfolgt mit dem Befehl import."
   ]
  },
  {
   "cell_type": "code",
   "execution_count": null,
   "id": "9850a6e1-c3a8-4e58-b748-435537ee6da7",
   "metadata": {},
   "outputs": [],
   "source": [
    "import sys, os\n",
    "#-- auf dem DKRZ Supercomputer gibt es eine App noch nicht, diese muss erst installiert werden\n",
    "try:\n",
    "    host = os.uname()[1].split('.')[-2]\n",
    "except (IndexError, ValueError):\n",
    "    host = 'null'\n",
    "if host == 'dkrz':                   #-- auf dem DKRZ Supercomputer gibt es cmasher nicht\n",
    "    # Installiere App 'cmasher' für die Gestaltung des Farbbalkens \n",
    "    !pip install --user cmasher --quiet\n",
    "    sys.path.append('../../.local/lib/python3.9/site-packages') #-- sage dem Computer, wo er die App findet\n",
    "import numpy as np\n",
    "import pandas as pd\n",
    "import matplotlib.pyplot as plt\n",
    "\n",
    "import geopandas as gpd\n",
    "from mpl_toolkits.axes_grid1 import make_axes_locatable\n",
    "import matplotlib as mpl\n",
    "import cmasher as cmr\n",
    "import json\n",
    "import requests\n",
    "from zipfile import ZipFile\n",
    "from io import BytesIO\n"
   ]
  },
  {
   "attachments": {},
   "cell_type": "markdown",
   "id": "3c45af31-c394-41aa-b402-cb3ecc90811c",
   "metadata": {},
   "source": [
    "## Konfiguriere das Notebook"
   ]
  },
  {
   "cell_type": "markdown",
   "id": "67f9330a-e1c5-4f8c-bf3c-b715abf517e2",
   "metadata": {},
   "source": [
    "_Hier stellen wir ein, wie in den Notebookzellen alle Ergebnisse dargestellt werden._"
   ]
  },
  {
   "cell_type": "code",
   "execution_count": null,
   "id": "0615172a-4684-42ee-a519-c55c223aedcf",
   "metadata": {},
   "outputs": [],
   "source": [
    "from IPython.core.interactiveshell import InteractiveShell\n",
    "InteractiveShell.ast_node_interactivity = 'all'"
   ]
  },
  {
   "cell_type": "markdown",
   "id": "3cb671ca-c5bd-4b3e-b532-640703af5d08",
   "metadata": {},
   "source": [
    "_Hier stellen wir ein, wie in den Notebookzellen alle Ergebnisse dargestellt werden._"
   ]
  },
  {
   "cell_type": "code",
   "execution_count": null,
   "id": "cbe078bd-7303-4d28-a784-46f0a86e30d8",
   "metadata": {},
   "outputs": [],
   "source": [
    "plt.rcParams.update({'font.size': 20})"
   ]
  },
  {
   "cell_type": "markdown",
   "id": "836c5bee-1476-48b5-9c25-377c7201a762",
   "metadata": {},
   "source": [
    "### Hole Dir die Feuerbeobachtungen der letzten 24 Stunden."
   ]
  },
  {
   "cell_type": "markdown",
   "id": "21159540-fee6-4062-a96e-e45c39d7f59a",
   "metadata": {},
   "source": [
    "Das machst Du mit dem Befehl !wget, gefolgt von der Internetadresse. \n",
    "Als Internetadresse gibst Du das FIRMS NASA Datenarchiv an. FIRMS stellt Satellitenfeuerbeobachtungen von MODIS und VIIRS in nahezu Echtzeit (\"NRT\" near-realtime) zur Verfügung. NRT bedeutet dabei, dass die Satellitendaten innerhalb von 3 Stunden nach der eigentlichen Aufnahme zur Verfügung gestellt werden.  \n",
    "Wir holen uns die Feuerbeobachtungen als csv-Datei. csv bedeutet \"comma separated value\", d.h. es ist eine Tabelle, in der die einzelnen Werte mit Kommas getrennt sind. "
   ]
  },
  {
   "cell_type": "markdown",
   "id": "c794782d-c7ab-4741-ad24-3cbd98328d8d",
   "metadata": {},
   "source": [
    "<div class=\"alert-info\">\n",
    "<span style=\"color:magenta; ; font-size: larger; font-weight: bold;\">Hier kannst Du den Code ändern</span>\n",
    "<br>\n",
    "<span style=\"color:magenta; font-size: normal; font-weight: normal;\">\n",
    "        Ändere z.B. den Feuersatelliten oder den Beobachtungszeitraum.\n",
    "</span>\n",
    "</div>"
   ]
  },
  {
   "cell_type": "markdown",
   "id": "bc557064-e0c7-43fe-9cd7-a726d507d727",
   "metadata": {},
   "source": [
    "**Wähle den Satelliten aus**"
   ]
  },
  {
   "cell_type": "code",
   "execution_count": null,
   "id": "849d9dd6-946d-4b97-8358-e719f2bb3d3b",
   "metadata": {
    "editable": true,
    "slideshow": {
     "slide_type": ""
    },
    "tags": []
   },
   "outputs": [],
   "source": [
    "feuersatellit = 'MODIS'      # Mögliche Werte: 'MODIS' oder 'J1_VIIRS' oder 'SUOMI_VIIRS'"
   ]
  },
  {
   "cell_type": "markdown",
   "id": "bb2a075c-1493-4a41-8dec-90fa99e6e030",
   "metadata": {},
   "source": [
    "**Wähle den Beobachtungszeitraum aus**"
   ]
  },
  {
   "cell_type": "code",
   "execution_count": null,
   "id": "c573e2ea-b475-4d5a-9717-bdb123725135",
   "metadata": {},
   "outputs": [],
   "source": [
    "zeitraum      = '7d'        # Mögliche Werte: '24h', oder '48h' oder '7d' \n",
    "                             # 7d bedeutet, dass Daten für die letzten 7 Tage geholt werden."
   ]
  },
  {
   "cell_type": "markdown",
   "id": "a4af0306-6515-4258-b979-3d28d7c185ca",
   "metadata": {},
   "source": [
    "**Wähle die Farbe des Farbbalkens für die Abbildungen**"
   ]
  },
  {
   "cell_type": "code",
   "execution_count": null,
   "id": "3d568b62-6876-4b6d-a80e-ba52462bd1be",
   "metadata": {},
   "outputs": [],
   "source": [
    "farbe_farbbalken  = 'hot'   # Mögliche Werte, z.B. 'hot', rainbow', 'viridis', 'coolwarm', 'Purples'"
   ]
  },
  {
   "cell_type": "markdown",
   "id": "08331e2f-ef4a-4ec4-8a8e-8fa5f4f874c5",
   "metadata": {},
   "source": [
    "_Hier suchen wir uns die richtige Internetadresse für die Satellitendaten raus.<br>_\n",
    "_Wir arbeiten in erster Linie mit MODIS._"
   ]
  },
  {
   "cell_type": "code",
   "execution_count": null,
   "id": "c99559c2-e015-4827-b95c-1fcff95c208f",
   "metadata": {},
   "outputs": [],
   "source": [
    "if feuersatellit   == 'MODIS':\n",
    "    datei           = 'MODIS_C6_1_Global_'+zeitraum+'.csv'\n",
    "    internetadresse = 'https://firms.modaps.eosdis.nasa.gov/data/active_fire/modis-c6.1/csv/'+datei\n",
    "elif feuersatellit == 'SUOMI_VIIRS':\n",
    "    datei           = 'SUOMI_VIIRS_C2_Global_'+zeitraum+'.csv'\n",
    "    internetadresse = 'https://firms.modaps.eosdis.nasa.gov/data/active_fire/suomi-npp-viirs-c2/csv/'+datei\n",
    "elif feuersatellit == 'J1_VIIRS':\n",
    "    datei           = 'J1_VIIRS_C2_Global_'+zeitraum+'.csv'\n",
    "    internetadresse = 'https://firms.modaps.eosdis.nasa.gov/data/active_fire/noaa-20-viirs-c2/csv/'+datei"
   ]
  },
  {
   "cell_type": "markdown",
   "id": "e9ca3fa1-9347-43d8-a7c5-5faf0b61c38a",
   "metadata": {
    "tags": []
   },
   "source": [
    "_Hiermit holen wir uns unsere Satellitendaten von NASA und speichern sie als *.csv Datei auf unserem Computer._"
   ]
  },
  {
   "cell_type": "code",
   "execution_count": null,
   "id": "4486209a-d66d-4a2f-8719-9d9071130a8e",
   "metadata": {
    "tags": []
   },
   "outputs": [],
   "source": [
    "!wget -N {internetadresse}"
   ]
  },
  {
   "cell_type": "code",
   "execution_count": null,
   "id": "9a098435",
   "metadata": {},
   "outputs": [],
   "source": [
    "# wir schauen die ersten 6 Zeilen der heruntergeladenen Datei an\n",
    "!head -6 {datei}"
   ]
  },
  {
   "cell_type": "markdown",
   "id": "f049ac36",
   "metadata": {},
   "source": [
    "### Wie sehen die ersten 5 Zeilen aus?"
   ]
  },
  {
   "cell_type": "markdown",
   "id": "97f8c55f",
   "metadata": {},
   "source": [
    "Wir sehen eine kommaseparierte Liste. Jedes Komma wird bei der Umwandlung eine Tabelle als Spaltentrenner intepretiert. <br>\n",
    "In der ersten Zeile sehen wir eine Überschriftzeile; jede Spalte hat eine Überschrift.  <br>\n",
    "Weiterhin sehen wir vier Zeilen mit Werten. Jede Zeile bedeutet ein Feuerpixel. <br>\n",
    "Für uns sind folgende Spalten wichtig:\n",
    "* latitude:  der Breitengrad, also wieviel Grad Süd oder Nord. Negativ Werte bedeuten Süden. \n",
    "* longitude: der Längengrad,  also wieviel Grad West oder Ost. Negative Werte bedeuten Westen.<br> \n",
    "Zur Info: Hamburg befindet sich 53.55°N und 10.00° E, d.h. latitude=53.55 und longitude=10.00.\n",
    "\n",
    "Weiterhin ist für uns wichtig:\n",
    "* acq_date: das Datum, an dem die Beobachtung gemacht wurde. 2023 ist das Jahr, 04 steht für den Monat April.\n",
    "* acq_time: die Uhrzeit der Beobachtung. Die Schreibweise ist HHMM, wobei HH die Stunde und MM die Minuten bedeuten. <br>\n",
    "Zur Info: Datum und Uhrzeit sind in der UTC (Coordinated Universal Time) Zeit angeben. Um die aktuelle Uhrzeit in Deutschland zu berechnen, musst Du 2 Stunden addieren. \n",
    "* frp: die Feuer-Strahlungsleistung (fire radiative power, FRP) in Megawatt \\[MW\\], ein Indikator für die Feuerintensität\n"
   ]
  },
  {
   "cell_type": "markdown",
   "id": "efbfc360",
   "metadata": {},
   "source": [
    "## Lesen der Feuerdaten in die pandas App und Inspektion"
   ]
  },
  {
   "cell_type": "markdown",
   "id": "7f48cc33",
   "metadata": {},
   "source": [
    "### Speichere die Feuerbeobachtungen in der Variable feuerdaten"
   ]
  },
  {
   "cell_type": "code",
   "execution_count": null,
   "id": "1d857393",
   "metadata": {},
   "outputs": [],
   "source": [
    "# Dafür nutzen wir den Befehl read_csv. \n",
    "feuerdaten = pd.read_csv(datei, usecols=[\"latitude\", \"longitude\", \"acq_date\", \"acq_time\", \"frp\"])"
   ]
  },
  {
   "cell_type": "code",
   "execution_count": null,
   "id": "b52e5e0b",
   "metadata": {},
   "outputs": [],
   "source": [
    "feuerdaten.head(5)"
   ]
  },
  {
   "cell_type": "markdown",
   "id": "891fcf55",
   "metadata": {},
   "source": [
    "### Aufbereitung der Daten, so dass wir damit besser arbeiten können "
   ]
  },
  {
   "cell_type": "markdown",
   "id": "0d7b1e67",
   "metadata": {},
   "source": [
    "1) Wir wandeln Datum und Zeit in ein besser lesbares Format um, und so, dass es sich auf die deutsche Zeitzone bezieht.\n",
    "2) Wir bestimmen, dass die Beobachtungszeit in der ersten Spalte als \"Index\" verwendet wird (wichtig zum Sortieren der Daten).\n",
    "3) Wir benennen die Überschriften um."
   ]
  },
  {
   "cell_type": "code",
   "execution_count": null,
   "id": "485e3bb8",
   "metadata": {},
   "outputs": [],
   "source": [
    "feuerdaten = feuerdaten.set_index((pd.to_datetime(feuerdaten['acq_date'] + \n",
    "                                                  ' ' + feuerdaten['acq_time'].astype(str).str.zfill(4).str.wrap(2).str.replace('\\n', ':'))) \n",
    "                                                      + pd.DateOffset(hours=2))\n",
    "\n",
    "feuerdaten = feuerdaten[['latitude', 'longitude', 'frp']].rename(columns={'latitude': 'Breitengrad', 'longitude':'Längengrad', 'frp': 'Feuerintensität'})\n",
    "feuerdaten.index.name = 'Beobachtungszeit'\n",
    "\n"
   ]
  },
  {
   "cell_type": "markdown",
   "id": "5b6d92bf",
   "metadata": {},
   "source": [
    "### Jetzt schauen wir uns die aufbereiteten Daten genauer an!"
   ]
  },
  {
   "cell_type": "code",
   "execution_count": null,
   "id": "316c673f",
   "metadata": {},
   "outputs": [],
   "source": [
    "#### Wann wurden die letzten Feuer beobachtet?"
   ]
  },
  {
   "cell_type": "code",
   "execution_count": null,
   "id": "ad660cfd",
   "metadata": {},
   "outputs": [],
   "source": [
    "feuerdaten.sort_index(ascending=False).head(5)  "
   ]
  },
  {
   "cell_type": "markdown",
   "id": "30d0d082",
   "metadata": {},
   "source": [
    "#### Wieviele Feuer wurden weltweit beobachtet?"
   ]
  },
  {
   "cell_type": "code",
   "execution_count": null,
   "id": "442e3e27",
   "metadata": {},
   "outputs": [],
   "source": [
    "len(feuerdaten)"
   ]
  },
  {
   "cell_type": "markdown",
   "id": "9d224c07",
   "metadata": {},
   "source": [
    "#### Welche Strahlungleistung erzeugten die Feuer (in Megawatt)?\n",
    "1 MW enspricht einer Millionen Watt! D.h. 1000 MW ensprechen einer Milliarden Watt! "
   ]
  },
  {
   "cell_type": "code",
   "execution_count": null,
   "id": "d91fb8d3",
   "metadata": {},
   "outputs": [],
   "source": [
    "gesamtstrahlungsleistungMW = int(feuerdaten[\"Feuerintensität\"].sum())\n",
    "print(f'Strahlungsleistung gesamt={gesamtstrahlungsleistungMW} MW bzw. {gesamtstrahlungsleistungMW/1000} GW') "
   ]
  },
  {
   "cell_type": "markdown",
   "id": "6d1934b6",
   "metadata": {},
   "source": [
    "#### Wieviel Watt pro Mensch auf dieser Erde (8 Milliarden=8.e+9 Menschen derzeit) entspricht das?"
   ]
  },
  {
   "cell_type": "code",
   "execution_count": null,
   "id": "fc8493e8",
   "metadata": {},
   "outputs": [],
   "source": [
    "print(int((feuerdaten['Feuerintensität'].sum()*1.e+6)/8.e+9), 'Watt')"
   ]
  },
  {
   "cell_type": "markdown",
   "id": "5ef741c9",
   "metadata": {},
   "source": [
    "## Wo wurden die Feuer beobachtet? Wir erstellen eine Weltkarte."
   ]
  },
  {
   "cell_type": "code",
   "execution_count": null,
   "id": "39b6e283-3a2c-4f8d-b49e-ec054e71e087",
   "metadata": {},
   "outputs": [],
   "source": [
    "# Wir wählen die vorgefertigte Farbkarte \"colormap\": 'hot'. Sie zeichnet schwarz-->rot-->gelb.\n",
    "# Schwache Feuer erscheinen in dunkelrot/schwarz, besonders intensive Feuer erscheinen in gelb.\n",
    "# vmax wird so gewählt, dass in etwa 95% aller Werte kleiner als vmax sind (95% Perzentilwert, gerundet auf voll 5er) \n",
    "\n",
    "vmin, vmax = 0, 5 * round(np.percentile(feuerdaten['Feuerintensität'], 95) / 5)\n",
    "mycmap = cmr.get_sub_cmap(farbe_farbbalken, 0, 0.8)  #-- Hier passen wir die Farbkarte noch etwas an. \n",
    "\n",
    "\n",
    "rahmen, bild1 = plt.subplots(figsize=(12,6))\n",
    "# Jetzt zeichnen wir eine Weltkarte in grau\n",
    "landkarte  = gpd.read_file(gpd.datasets.get_path('naturalearth_lowres'))\n",
    "landbild1  = landkarte.plot(color='white', ax=bild1)\n",
    "bild1.patch.set_facecolor('lightblue')\n",
    "bild1.patch.set_alpha(0.7)\n",
    "# Direkte Verwendung von matplotlib.pyplot.scatter\n",
    "feuerbild1 = bild1.scatter(feuerdaten['Längengrad'], feuerdaten['Breitengrad'], \n",
    "                         c=feuerdaten['Feuerintensität'], cmap=mycmap, s=0.05, vmin=vmin, vmax=vmax, \n",
    "                         alpha=1)\n",
    "_      = plt.title(f'{feuersatellit} Feuerbeobachtungen (die letzten {zeitraum})')\n",
    "# Nun machen wir den Farbbalken\n",
    "norm   = mpl.colors.Normalize(vmin=vmin, vmax=vmax); divider = make_axes_locatable(bild1)\n",
    "cax    = divider.append_axes('right', size='3%', pad=0.05)\n",
    "stdout = mpl.colorbar.ColorbarBase(cax, cmap=mycmap, norm=norm, extend='max', label='Feuerintensität [MW]')\n",
    "\n",
    "# Hier bestimmen wir, welche Region auf der Weltkarte gezeigt wird und die Axenbeschriftung.\n",
    "stdout = bild1.set_xlim(-180,180)\n",
    "stdout = bild1.set_ylim(-60,90)\n",
    "stdout = bild1.set_xlabel('Längengrad')\n",
    "stdout = bild1.set_ylabel('Breitengrad')\n",
    "\n",
    "plt.savefig(f'../output/welt_feuerbeobachtungen_{feuersatellit}_{zeitraum}.png', dpi=300, bbox_inches='tight')"
   ]
  },
  {
   "cell_type": "markdown",
   "id": "3df5d45f-967a-4778-8196-8a3b653495ac",
   "metadata": {},
   "source": [
    "## Wo wurden die Feuer in Deutschland oder in einem anderen Land beobachtet?"
   ]
  },
  {
   "cell_type": "markdown",
   "id": "ae4c2503-d68f-416e-aad9-d89c74d8582a",
   "metadata": {},
   "source": [
    "Als erstes holen wir uns die geogaphischen Eckpunkte von den Ländern der Welt \"laender_bounds\". <br />\n",
    "Dann holen wir uns eine Weltkarte, die die Ländergrenzen genauer darstellt als Standard-Länderkarte von geopandas (naturalearth_lowres) <br />\n",
    "Weiterhin holen wir uns einen Datensatz, die Koordinaten von größeren Städten (> 50.000 Einwohner) enthält  <br />https://gist.githubusercontent.com/curran/13d30e855d48cdd6f22acdf0afe27286/raw/0635f14817ec634833bb904a47594cc2f5f9dbf8/worldcities_clean.csv\n"
   ]
  },
  {
   "cell_type": "code",
   "execution_count": null,
   "id": "3693b3c5-0d88-4288-a46d-66e322c0f866",
   "metadata": {},
   "outputs": [],
   "source": [
    "URL                  = 'https://github.com/geobase/countries/releases/download/1.0.5/countries.zip'\n",
    "with ZipFile(BytesIO(requests.get(URL).content), \"r\") as f:\n",
    "    countries_json = f.extract('countries.json')\n",
    "laender_bounds     =  pd.read_json(countries_json)\n",
    "laender_bounds_tmp = pd.DataFrame(columns=['en_country','de_country'])\n",
    "for (i,r) in laender_bounds.iterrows():\n",
    "    name_dict = r['names']\n",
    "    laender_bounds_tmp.loc[i] = [name_dict['en'], name_dict['de']]\n",
    "laender_bounds = pd.concat([laender_bounds, laender_bounds_tmp], axis=1).drop(columns=['names', 'currency', 'timezone', 'population', 'capital', 'area'])"
   ]
  },
  {
   "cell_type": "code",
   "execution_count": null,
   "id": "865728b9-6d60-4eb4-8dd3-68d59bef648d",
   "metadata": {},
   "outputs": [],
   "source": [
    "gpd.io.file.fiona.drvsupport.supported_drivers['KML'] = 'rw'\n",
    "URL                  = 'https://public.opendatasoft.com/explore/dataset/world-administrative-boundaries/download/?format=kml&timezone=Europe/Berlin&lang=en'\n",
    "laendergrenzen       = gpd.read_file(URL, driver='KML')\n",
    "\n",
    "URL                  = 'https://gist.githubusercontent.com/curran/13d30e855d48cdd6f22acdf0afe27286/raw/0635f14817ec634833bb904a47594cc2f5f9dbf8/worldcities_clean.csv'\n",
    "city_coords          = pd.read_csv(URL) "
   ]
  },
  {
   "cell_type": "markdown",
   "id": "b32d8663-12e5-44b4-ba40-3f4eb3f2aca8",
   "metadata": {},
   "source": [
    "## Wo wurden die Feuer in einem speziellen Land beobachtet? Wir erstellen eine Karte...."
   ]
  },
  {
   "cell_type": "markdown",
   "id": "3dd3460b-dbf9-4350-a75b-56ac351b017a",
   "metadata": {},
   "source": [
    "Du kannst hier aber auch ein beliebig anderes Land wählen!"
   ]
  },
  {
   "cell_type": "code",
   "execution_count": null,
   "id": "5a16521b-3d5a-41b2-88ec-d78bf98bd981",
   "metadata": {},
   "outputs": [],
   "source": [
    "land       = 'Deutschland'         #-- deutsche Schreibweise"
   ]
  },
  {
   "cell_type": "code",
   "execution_count": null,
   "id": "4422ad1a-d7b9-4272-9986-f2ccb297fd95",
   "metadata": {},
   "outputs": [],
   "source": [
    "# Hier definieren wir die Eckkordinaten unserer Domain (das erfolgt automatisch über die bounds)\n",
    "\n",
    "country       = laender_bounds[laender_bounds['de_country'] == land]['en_country'].item()\n",
    "country_ISO   = laender_bounds[laender_bounds['de_country'] == land]['code'].item()\n",
    "domain_koord  = laender_bounds[laender_bounds['de_country'] == land].values.flatten()[5:9][[3,2,1,0]] # longmin, latmin, longmax, latmax\n",
    "# Eine Alternative, wenn obige domain_koord unsinnige Bounds ergeben\n",
    "#r = requests.get(r\"http://nominatim.openstreetmap.org/search?q=%s&format=json\"%country)\n",
    "#domain_koord2  = np.asarray([float(i) for i in json.loads(r.text)[0][\"boundingbox\"]])[[2,0,3,1]]\n",
    "\n",
    "# Wir holen uns genaue Länderkarten mit Distrikten\n",
    "gpd.io.file.fiona.drvsupport.supported_drivers['KML'] = 'rw'\n",
    "gadm_lev0      = 'gadm40_'+country_ISO+'_0'\n",
    "r              = requests.get('https://geodata.ucdavis.edu/gadm/gadm4.0/kmz/'+gadm_lev0+'.kmz')\n",
    "zf             = ZipFile(BytesIO(r.content))\n",
    "country_bounds = gpd.read_file(zf.open(gadm_lev0+'.kml'), driver='KML')\n",
    "gadm_lev1      = 'gadm40_'+country_ISO+'_1'\n",
    "r              = requests.get('https://geodata.ucdavis.edu/gadm/gadm4.0/kmz/'+gadm_lev1+'.kmz')\n",
    "zf             = ZipFile(BytesIO(r.content))\n",
    "districts      = gpd.read_file(zf.open(gadm_lev1+'.kml'), driver='KML')"
   ]
  },
  {
   "cell_type": "code",
   "execution_count": null,
   "id": "22fe945c-5cdc-4742-b872-a182b8e54c36",
   "metadata": {},
   "outputs": [],
   "source": [
    "# Wir machen einen Bilderrahmen und sagen, wie groß das Bild darin sein soll.\n",
    "rahmen, bild = plt.subplots(figsize=(14,18))\n",
    "\n",
    "# Nun machen wir eine Karte mit den Ländergrenzen und den Districtgrenzen Wasserflächen werden hellblau dargestellt.\n",
    "\n",
    "_ = laendergrenzen.plot(color='white', edgecolor='black', linewidth=1, ax=bild) # aspect=None)\n",
    "_ = districts.plot(color='whitesmoke', edgecolor='darkgrey', linewidth=1, ax=bild) # aspect=None)\n",
    "_ = bild.patch.set_facecolor('lightblue'); _ = bild.patch.set_alpha(0.7)\n",
    "# Wir limitieren die Darstellung der Karte auf die Region des ausgewählten Landes.\n",
    "# Wir machen die Region an den Seiten ein wenig größer, damit die Löndergrenze nicht am Bildrand ist. \n",
    "# Dafür berechnen wir die Differenz der Eckpunkte. \n",
    "diff_lat= domain_koord[3] - domain_koord[1]; diff_lon = domain_koord[2] - domain_koord[0]\n",
    "_ = bild.set_xlim(-0.01*  diff_lon + domain_koord[0], 0.01*  diff_lon + domain_koord[2])\n",
    "_ = bild.set_ylim(-0.01*  diff_lat + domain_koord[1], 0.01*  diff_lat + domain_koord[3])\n",
    "_ = bild.set_xlabel('Längengrad'); _ = bild.set_ylabel('Breitengrad');\n",
    "\n",
    "# Jetzt zeichnen wir die Feuer in die Karte. \n",
    "# Intensive Feuer erscheinen in gelb, schwache Feuer erscheinen in dunkelrot/schwarz.\n",
    "# Intensivere Feuer haben größere Markerpunkte als schwache Feuer.\n",
    "# Jetzt müssen wir die Farbskala skalieren, so dass das Maximum der Feuerstärke dem 90 Percentil-FRP-wert \n",
    "# für die gezeigte Domain entspricht\n",
    "vmin, vmax = 0, 5*round(np.percentile(feuerdaten[feuerdaten['Längengrad'].between(domain_koord[0],domain_koord[2]) &\n",
    "                feuerdaten['Breitengrad'].between(domain_koord[1],domain_koord[3])]['Feuerintensität'],95)/5)\n",
    "\n",
    "\n",
    "feuerbild = bild.scatter(feuerdaten['Längengrad'], feuerdaten['Breitengrad'], \n",
    "                         c=feuerdaten['Feuerintensität'], cmap=mycmap, s=feuerdaten['Feuerintensität'], \n",
    "                         vmin=vmin, vmax=vmax, \n",
    "                         alpha=1)\n",
    "_      = plt.title(f'{feuersatellit} Feuerbeobachtungen (die letzten {zeitraum})')\n",
    "\n",
    "# Hiermit zeichnen wir einige große Städe ein.\n",
    "major_cities       = city_coords[(city_coords['population'] > 1.e+6) & (city_coords['country']==country)]\n",
    "for index, city in major_cities.iterrows():\n",
    "    # Plot city name\n",
    "    _ = bild.text(city['lng'], city['lat'] - 0.25, s = city['city'], c = 'blue', fontsize=10, ha='center')\n",
    "    # Plot city location centroid.\n",
    "    _ = bild.plot(city['lng'], city['lat'], marker='*', c='blue', alpha=0.5)\n",
    "    \n",
    "# Nun machen wir den Farbbalken.\n",
    "norm  = mpl.colors.Normalize(vmin=vmin, vmax=vmax); divider = make_axes_locatable(bild)\n",
    "cax   = divider.append_axes('right', size='3%', pad=-2.05)\n",
    "_     = mpl.colorbar.ColorbarBase(cax, cmap=mycmap, norm=norm, extend='max', label='Feuerintensität [MW]')\n",
    "    \n",
    "# Nun machen wir noch eine kleine Textbox mit einer Anmerkung.\n",
    "_     = bild.annotate('Feuerpixel können auch Heizkraftwerke, Osterfeuer\\n oder sonstige große heiße Objekte umfassen!',\n",
    "               xy=(0.685, 0.99), fontsize=10, xycoords='axes fraction', ha=\"center\", va=\"top\", \n",
    "               bbox=dict(boxstyle='round', fc='w'));\n",
    "plt.savefig(f'../output/{land}_feuerbeobachtungen_{feuersatellit}_{zeitraum}.png', dpi=300, bbox_inches='tight')"
   ]
  },
  {
   "cell_type": "code",
   "execution_count": null,
   "id": "931ed7b8-edf3-4ca0-b4b2-59f23463a776",
   "metadata": {
    "editable": true,
    "slideshow": {
     "slide_type": ""
    },
    "tags": []
   },
   "outputs": [],
   "source": []
  }
 ],
 "metadata": {
  "kernelspec": {
   "display_name": "1 Python 3 (based on the module python3/2023.01)",
   "language": "python",
   "name": "python3_2023_01"
  },
  "language_info": {
   "codemirror_mode": {
    "name": "ipython",
    "version": 3
   },
   "file_extension": ".py",
   "mimetype": "text/x-python",
   "name": "python",
   "nbconvert_exporter": "python",
   "pygments_lexer": "ipython3",
   "version": "3.10.10"
  },
  "toc-autonumbering": true
 },
 "nbformat": 4,
 "nbformat_minor": 5
}
